{
 "cells": [
  {
   "cell_type": "markdown",
   "metadata": {},
   "source": [
    "# Aşama 1: Veri Keşfi ve Ön İşleme\n",
    "Bu notebook'un amacı, MovieLens veri setini analiz etmek, anlamak ve modelleme için hazır hale getirmektir."
   ]
  },
  {
   "cell_type": "markdown",
   "metadata": {},
   "source": [
    "## 1. Kütüphaneleri ve Veri Setini Yükleme"
   ]
  },
  {
   "cell_type": "code",
   "execution_count": null,
   "metadata": {},
   "outputs": [
    {
     "ename": "",
     "evalue": "",
     "output_type": "error",
     "traceback": [
      "\u001b[1;31mRunning cells with 'Python 3.12.6' requires the ipykernel package.\n",
      "\u001b[1;31m<a href='command:jupyter.createPythonEnvAndSelectController'>Create a Python Environment</a> with the required packages.\n",
      "\u001b[1;31mOr install 'ipykernel' using the command: 'c:/Python312/python.exe -m pip install ipykernel -U --user --force-reinstall'"
     ]
    }
   ],
   "source": [
    "import pandas as pd\n",
    "import numpy as np\n",
    "import matplotlib.pyplot as plt\n",
    "import seaborn as sns\n",
    "\n",
    "sns.set_style(\"whitegrid\")"
   ]
  },
  {
   "cell_type": "code",
   "execution_count": null,
   "metadata": {},
   "outputs": [],
   "source": [
    "# Veri dosyalarının yolları\n",
    "ratings_path = '../data/ml-latest-small/ratings.csv'\n",
    "movies_path = '../data/ml-latest-small/movies.csv'\n",
    "\n",
    "# Veriyi yükleme\n",
    "ratings_df = pd.read_csv(ratings_path)\n",
    "movies_df = pd.read_csv(movies_path)"
   ]
  },
  {
   "cell_type": "code",
   "execution_count": null,
   "metadata": {},
   "outputs": [],
   "source": [
    "print(\"Ratings Veri Seti:\")\n",
    "ratings_df.head()"
   ]
  },
  {
   "cell_type": "code",
   "execution_count": null,
   "metadata": {},
   "outputs": [],
   "source": [
    "print(\"Movies Veri Seti:\")\n",
    "movies_df.head()"
   ]
  },
  {
   "cell_type": "markdown",
   "metadata": {},
   "source": [
    "## 2. Veriyi Birleştirme\n",
    "`ratings` ve `movies` veri çerçevelerini `movieId` sütunu üzerinden birleştirerek hangi kullanıcının hangi filme ne puan verdiğini tek bir yerde topluyoruz."
   ]
  },
  {
   "cell_type": "code",
   "execution_count": null,
   "metadata": {},
   "outputs": [],
   "source": [
    "df = pd.merge(ratings_df, movies_df, on='movieId')\n",
    "print(\"Birleştirilmiş Veri Seti:\")\n",
    "df.head()"
   ]
  },
  {
   "cell_type": "markdown",
   "metadata": {},
   "source": [
    "## 3. Keşifsel Veri Analizi (EDA)"
   ]
  },
  {
   "cell_type": "markdown",
   "metadata": {},
   "source": [
    "### 3.1. Genel Bilgiler ve Boş Değer Kontrolü"
   ]
  },
  {
   "cell_type": "code",
   "execution_count": null,
   "metadata": {},
   "outputs": [],
   "source": [
    "df.info()"
   ]
  },
  {
   "cell_type": "code",
   "execution_count": null,
   "metadata": {},
   "outputs": [],
   "source": [
    "print(f\"Boş değerlerin toplamı:\n",
    "{df.isnull().sum()}\")"
   ]
  },
  {
   "cell_type": "markdown",
   "metadata": {},
   "source": [
    "**Gözlem:** Veri setinde boş (NaN) değer bulunmuyor. Bu harika!"
   ]
  },
  {
   "cell_type": "markdown",
   "metadata": {},
   "source": [
    "### 3.2. Benzersiz Kullanıcı ve Film Sayısı"
   ]
  },
  {
   "cell_type": "code",
   "execution_count": null,
   "metadata": {},
   "outputs": [],
   "source": [
    "n_users = df['userId'].nunique()\n",
    "n_movies = df['movieId'].nunique()\n",
    "\n",
    "print(f'Toplam Benzersiz Kullanıcı Sayısı: {n_users}')\n",
    "print(f'Toplam Benzersiz Film Sayısı: {n_movies}')"
   ]
  },
  {
   "cell_type": "markdown",
   "metadata": {},
   "source": [
    "### 3.3. Puanların Dağılımı"
   ]
  },
  {
   "cell_type": "code",
   "execution_count": null,
   "metadata": {},
   "outputs": [],
   "source": [
    "plt.figure(figsize=(10, 6))\n",
    "sns.countplot(x='rating', data=df)\n",
    "plt.title('Puanların Dağılımı', fontsize=15)\n",
    "plt.xlabel('Puan')\n",
    "plt.ylabel('Puan Sayısı')\n",
    "plt.show()"
   ]
  },
  {
   "cell_type": "markdown",
   "metadata": {},
   "source": [
    "**Gözlem:** En çok verilen puan 4.0, en az verilen ise 0.5. Kullanıcılar genellikle filmlere yüksek puan verme eğiliminde."
   ]
  },
  {
   "cell_type": "markdown",
   "metadata": {},
   "source": [
    "### 3.4. En Çok Puan Alan Filmler"
   ]
  },
  {
   "cell_type": "code",
   "execution_count": null,
   "metadata": {},
   "outputs": [],
   "source": [
    "movie_rating_counts = df['title'].value_counts()\n",
    "print(\"En çok puan alan ilk 20 film:\")\n",
    "movie_rating_counts.head(20)"
   ]
  },
  {
   "cell_type": "markdown",
   "metadata": {},
   "source": [
    "### 3.5. En Çok Puanlama Yapan Kullanıcılar"
   ]
  },
  {
   "cell_type": "code",
   "execution_count": null,
   "metadata": {},
   "outputs": [],
   "source": [
    "user_rating_counts = df['userId'].value_counts()\n",
    "print(\"En çok puanlama yapan ilk 20 kullanıcı:\")\n",
    "user_rating_counts.head(20)"
   ]
  },
  {
   "cell_type": "markdown",
   "metadata": {},
   "source": [
    "## Sonuç\n",
    "Veri seti temiz ve kullanıma hazır görünüyor. Popüler filmler ve aktif kullanıcılar hakkında fikir edindik. Bir sonraki aşamada bu verileri kullanarak tavsiye modelleri oluşturmaya başlayabiliriz."
   ]
  }
 ],
 "metadata": {
  "kernelspec": {
   "display_name": "Python 3",
   "language": "python",
   "name": "python3"
  },
  "language_info": {
   "codemirror_mode": {
    "name": "ipython",
    "version": 3
   },
   "file_extension": ".py",
   "mimetype": "text/x-python",
   "name": "python",
   "nbconvert_exporter": "python",
   "pygments_lexer": "ipython3",
   "version": "3.12.6"
  }
 },
 "nbformat": 4,
 "nbformat_minor": 4
}
